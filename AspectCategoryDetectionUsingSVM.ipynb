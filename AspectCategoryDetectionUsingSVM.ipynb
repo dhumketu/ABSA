{
 "cells": [
  {
   "cell_type": "code",
   "execution_count": 112,
   "metadata": {
    "collapsed": false
   },
   "outputs": [],
   "source": [
    "import pandas as pd\n",
    "import numpy as np\n",
    "import sklearn\n",
    "from sklearn.model_selection import train_test_split\n",
    "\n",
    "categoryDF=pd.read_csv(\"Z:/MSBooks/NLP/Project/aspectCategoryDetection.csv\",delimiter='#',encoding = 'utf-8')\n",
    "categoryDF.head()\n",
    "train, test = train_test_split(categoryDF, test_size = 0.2)\n",
    "y_train = train.aspectCategory.unique()\n",
    "labels = y_train.tolist()"
   ]
  },
  {
   "cell_type": "code",
   "execution_count": 113,
   "metadata": {
    "collapsed": false
   },
   "outputs": [],
   "source": [
    "categories = [x for x in labels if str(x) != 'nan']"
   ]
  },
  {
   "cell_type": "code",
   "execution_count": 114,
   "metadata": {
    "collapsed": false
   },
   "outputs": [],
   "source": [
    "train = train.reset_index(drop='True')\n",
    "test = test.reset_index(drop='True')"
   ]
  },
  {
   "cell_type": "code",
   "execution_count": 115,
   "metadata": {
    "collapsed": false
   },
   "outputs": [],
   "source": [
    "trainData=[]\n",
    "trainLabels = []\n",
    "testLabels = []\n",
    "for id in train.index:\n",
    "    trainData.append(train.iloc[id,2])\n",
    "    trainLabels.append(train.iloc[id,3])\n",
    "\n",
    "testData=[]\n",
    "for id in test.index:\n",
    "    testData.append(test.iloc[id,2])\n",
    "    testLabels.append(test.iloc[id,3])"
   ]
  },
  {
   "cell_type": "code",
   "execution_count": 116,
   "metadata": {
    "collapsed": false
   },
   "outputs": [],
   "source": [
    "from sklearn.feature_extraction.text import TfidfVectorizer\n",
    "from sklearn import svm\n",
    "from sklearn.metrics import classification_report\n",
    "\n",
    "vectorizer = TfidfVectorizer(min_df=5,\n",
    "                                 max_df = 0.8,\n",
    "                                 sublinear_tf=True,\n",
    "                                 use_idf=True)\n",
    "train_vectors = vectorizer.fit_transform(trainData)\n",
    "test_vectors = vectorizer.transform(testData)\n",
    "\n",
    "\n",
    "classifier_rbf = svm.SVC()\n",
    "classifier_rbf.fit(train_vectors, trainLabels)\n",
    "prediction_rbf = classifier_rbf.predict(test_vectors)\n"
   ]
  },
  {
   "cell_type": "code",
   "execution_count": 117,
   "metadata": {
    "collapsed": false
   },
   "outputs": [],
   "source": [
    "classifier_linear = svm.SVC(kernel='linear')\n",
    "classifier_linear.fit(train_vectors, trainLabels)\n",
    "prediction_linear = classifier_linear.predict(test_vectors)\n"
   ]
  },
  {
   "cell_type": "code",
   "execution_count": 118,
   "metadata": {
    "collapsed": true
   },
   "outputs": [],
   "source": [
    "classifier_liblinear = svm.LinearSVC()\n",
    "classifier_liblinear.fit(train_vectors, trainLabels)\n",
    "prediction_liblinear = classifier_liblinear.predict(test_vectors)"
   ]
  },
  {
   "cell_type": "code",
   "execution_count": 122,
   "metadata": {
    "collapsed": false
   },
   "outputs": [
    {
     "data": {
      "text/plain": [
       "0.57287822878228778"
      ]
     },
     "execution_count": 122,
     "metadata": {},
     "output_type": "execute_result"
    }
   ],
   "source": [
    "from sklearn.metrics import f1_score\n",
    "f1_score(testLabels, prediction_linear, average='micro')  "
   ]
  },
  {
   "cell_type": "code",
   "execution_count": null,
   "metadata": {
    "collapsed": true
   },
   "outputs": [],
   "source": []
  }
 ],
 "metadata": {
  "anaconda-cloud": {},
  "kernelspec": {
   "display_name": "Python [conda root]",
   "language": "python",
   "name": "conda-root-py"
  },
  "language_info": {
   "codemirror_mode": {
    "name": "ipython",
    "version": 2
   },
   "file_extension": ".py",
   "mimetype": "text/x-python",
   "name": "python",
   "nbconvert_exporter": "python",
   "pygments_lexer": "ipython2",
   "version": "2.7.12"
  }
 },
 "nbformat": 4,
 "nbformat_minor": 1
}
