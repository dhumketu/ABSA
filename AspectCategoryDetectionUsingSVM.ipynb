{
 "cells": [
  {
   "cell_type": "code",
   "execution_count": 2,
   "metadata": {
    "collapsed": false
   },
   "outputs": [],
   "source": [
    "import pandas as pd\n",
    "import numpy as np\n",
    "import sklearn\n",
    "from sklearn.model_selection import train_test_split\n",
    "\n",
    "categoryDF=pd.read_csv(\"Z:/MSBooks/NLP/FinalProjectFiles/ACDFullData/aspectCategory_new.csv\",delimiter='#',encoding = 'utf-8')\n",
    "categoryDF.head()\n",
    "train, test = train_test_split(categoryDF, test_size = 0.2)\n",
    "y_train = train.aspectCategory.unique()\n",
    "labels = y_train.tolist()"
   ]
  },
  {
   "cell_type": "code",
   "execution_count": 3,
   "metadata": {
    "collapsed": false
   },
   "outputs": [],
   "source": [
    "train = train.reset_index(drop='True')\n",
    "test = test.reset_index(drop='True')"
   ]
  },
  {
   "cell_type": "code",
   "execution_count": 4,
   "metadata": {
    "collapsed": false
   },
   "outputs": [],
   "source": [
    "trainData=[]\n",
    "testData = []\n",
    "trainLabels = []\n",
    "testLabels = []\n",
    "sentiTrainLabels=[]\n",
    "sentiTestLabels=[]\n",
    "for id in train.index:\n",
    "    trainData.append(train.iloc[id,2])\n",
    "    trainLabels.append(train.iloc[id,3])\n",
    "    sentiTrainLabels.append(train.iloc[id,1])\n",
    "\n",
    "for id in test.index:\n",
    "    testData.append(test.iloc[id,2])\n",
    "    testLabels.append(test.iloc[id,3])\n",
    "    sentiTestLabels.append(test.iloc[id,1])"
   ]
  },
  {
   "cell_type": "code",
   "execution_count": 5,
   "metadata": {
    "collapsed": false
   },
   "outputs": [],
   "source": [
    "trainLabels = ['missing' if str(x)== 'nan' else x for x in trainLabels]\n",
    "testLabels = ['missing' if str(x) == 'nan' else x for x in testLabels]"
   ]
  },
  {
   "cell_type": "code",
   "execution_count": 6,
   "metadata": {
    "collapsed": false
   },
   "outputs": [],
   "source": [
    "from sklearn.feature_extraction.text import TfidfVectorizer\n",
    "from sklearn import svm\n",
    "from sklearn.metrics import classification_report\n",
    "\n",
    "vectorizer = TfidfVectorizer(min_df=5,\n",
    "                                 max_df = 0.8,\n",
    "                                 sublinear_tf=True,\n",
    "                                 use_idf=True)\n",
    "train_vectors = vectorizer.fit_transform(trainData)\n",
    "test_vectors = vectorizer.transform(testData)\n",
    "\n",
    "\n",
    "classifier_rbf = svm.SVC()\n",
    "classifier_rbf.fit(train_vectors, trainLabels)\n",
    "prediction_rbf = classifier_rbf.predict(test_vectors)\n",
    "senti_classifier_rbf=svm.SVC()\n",
    "senti_classifier_rbf.fit(train_vectors,sentiTrainLabels)\n",
    "senti_prediction_rbf = senti_classifier_rbf.predict(test_vectors)"
   ]
  },
  {
   "cell_type": "code",
   "execution_count": 7,
   "metadata": {
    "collapsed": false
   },
   "outputs": [
    {
     "name": "stdout",
     "output_type": "stream",
     "text": [
      "set([u'hardware&software', u'place&misc', u'software&ease_of_use&hardware', u'price&design&hardware', u'misc', u'design&misc&hardware', u'reachability&scenery', u'hardware', u'design', u'price&misc', u'software&price&hardware', u'hardware&misc', u'design&hardware&price', u'price&design&misc', u'story', u'ease_of_use&hardware', u'performance&story', u'misc&hardware', u'price&ease_of_use', u'design&hardware', u'performance&misc', u'music', u'gui&misc', u'performance', u'scenery', u'price&hardware', u'music&misc', u'price&design', 'missing', u'ease_of_use&design', u'price', u'price&misc&hardware', u'software&design', u'performance&music', u'ease_of_use', u'place&scenery', u'software&misc', u'ease_of_use&price&misc', u'software&hardware', u'software&ease_of_use', u'gui', u'ease_of_use&design&misc', u'software&design&hardware', u'reachability', u'design&misc', u'place', u'ease_of_use&misc', u'scenery&misc', u'ease_of_use&gui&misc', u'software'])\n"
     ]
    }
   ],
   "source": [
    "print set(trainLabels)"
   ]
  },
  {
   "cell_type": "code",
   "execution_count": 8,
   "metadata": {
    "collapsed": false
   },
   "outputs": [],
   "source": [
    "from sklearn.multiclass import OneVsRestClassifier\n",
    "from sklearn.svm import SVC\n",
    "classifier_linear = OneVsRestClassifier(SVC(kernel='linear'))\n",
    "#classifier_linear = svm.SVC(kernel='linear')\n",
    "classifier_linear.fit(train_vectors, trainLabels)\n",
    "prediction_linear = classifier_linear.predict(test_vectors)\n",
    "\n",
    "senti_classifier_linear=svm.SVC(kernel='linear')\n",
    "senti_classifier_linear.fit(train_vectors,sentiTrainLabels)\n",
    "senti_prediction_linear = senti_classifier_linear.predict(test_vectors)\n"
   ]
  },
  {
   "cell_type": "code",
   "execution_count": 9,
   "metadata": {
    "collapsed": true
   },
   "outputs": [],
   "source": [
    "classifier_liblinear = svm.LinearSVC()\n",
    "classifier_liblinear.fit(train_vectors, trainLabels)\n",
    "prediction_liblinear = classifier_liblinear.predict(test_vectors)\n",
    "\n",
    "\n",
    "senti_classifier_liblinear=svm.LinearSVC()\n",
    "senti_classifier_liblinear.fit(train_vectors,sentiTrainLabels)\n",
    "senti_prediction_liblinear = senti_classifier_liblinear.predict(test_vectors)"
   ]
  },
  {
   "cell_type": "code",
   "execution_count": 10,
   "metadata": {
    "collapsed": false
   },
   "outputs": [
    {
     "data": {
      "text/plain": [
       "0.51291512915129156"
      ]
     },
     "execution_count": 10,
     "metadata": {},
     "output_type": "execute_result"
    }
   ],
   "source": [
    "from sklearn.metrics import f1_score\n",
    "f1_score(testLabels, prediction_linear, average='micro')  "
   ]
  },
  {
   "cell_type": "code",
   "execution_count": 11,
   "metadata": {
    "collapsed": false
   },
   "outputs": [
    {
     "data": {
      "text/plain": [
       "0.63929889298892983"
      ]
     },
     "execution_count": 11,
     "metadata": {},
     "output_type": "execute_result"
    }
   ],
   "source": [
    "f1_score(sentiTestLabels, senti_prediction_linear, average='micro')  "
   ]
  },
  {
   "cell_type": "code",
   "execution_count": 12,
   "metadata": {
    "collapsed": false
   },
   "outputs": [
    {
     "name": "stdout",
     "output_type": "stream",
     "text": [
      "set([u'price&design&hardware', u'misc', u'hardware', u'design', u'price&misc', u'story', u'ease_of_use&design&misc', u'design&hardware', u'music', u'performance', u'scenery', u'price&hardware', u'missing', u'ease_of_use&design', u'price', u'software&design', u'ease_of_use', u'place&scenery', u'software&hardware', u'software&design&hardware', u'reachability', u'design&misc', u'place', u'software'])\n"
     ]
    }
   ],
   "source": [
    "print set(prediction_linear)"
   ]
  },
  {
   "cell_type": "code",
   "execution_count": 38,
   "metadata": {
    "collapsed": false
   },
   "outputs": [],
   "source": [
    "from sklearn import tree\n",
    "from collections import OrderedDict\n",
    "mySet = set(trainLabels)\n",
    "i=0\n",
    "macros=OrderedDict()\n",
    "reverseMap=OrderedDict()\n",
    "for item in mySet:\n",
    "    macros[item]=i\n",
    "    reverseMap[i]=item\n",
    "    i  += 1\n",
    "trainMacros=[]\n",
    "testMacros=[]\n",
    "for item in trainLabels:\n",
    "    trainMacros.append(macros[item])\n",
    "\n",
    "    \n",
    "clf = OneVsRestClassifier(tree.DecisionTreeClassifier())\n",
    "clf = clf.fit(train_vectors, trainMacros)\n",
    "result = clf.predict(test_vectors)    "
   ]
  },
  {
   "cell_type": "code",
   "execution_count": 39,
   "metadata": {
    "collapsed": false
   },
   "outputs": [
    {
     "data": {
      "text/plain": [
       "1084"
      ]
     },
     "execution_count": 39,
     "metadata": {},
     "output_type": "execute_result"
    }
   ],
   "source": [
    "resultList= result.tolist()\n",
    "resultData=[]\n",
    "for item in resultList:\n",
    "    resultData.append(reverseMap[item])\n",
    "len(resultData)"
   ]
  },
  {
   "cell_type": "code",
   "execution_count": 40,
   "metadata": {
    "collapsed": false
   },
   "outputs": [
    {
     "data": {
      "text/plain": [
       "0.30535055350553508"
      ]
     },
     "execution_count": 40,
     "metadata": {},
     "output_type": "execute_result"
    }
   ],
   "source": [
    "f1_score(testLabels, resultData, average='micro') "
   ]
  },
  {
   "cell_type": "code",
   "execution_count": 44,
   "metadata": {
    "collapsed": false
   },
   "outputs": [
    {
     "data": {
      "text/plain": [
       "0.43726937269372695"
      ]
     },
     "execution_count": 44,
     "metadata": {},
     "output_type": "execute_result"
    }
   ],
   "source": [
    "from sklearn.ensemble import RandomForestClassifier\n",
    "rfclf = OneVsRestClassifier(RandomForestClassifier())\n",
    "rfclf.fit(train_vectors,trainMacros)\n",
    "rfresult = rfclf.predict(test_vectors)\n",
    "rfresultList = rfresult.tolist()\n",
    "rfresultData=[]\n",
    "for item in rfresultList:\n",
    "    rfresultData.append(reverseMap[item])\n",
    "f1_score(testLabels,rfresultData,average='micro')"
   ]
  },
  {
   "cell_type": "code",
   "execution_count": 45,
   "metadata": {
    "collapsed": false
   },
   "outputs": [
    {
     "name": "stdout",
     "output_type": "stream",
     "text": [
      "set([u'scenery', u'music', u'price&design', u'software&hardware', 'missing', u'ease_of_use&design', u'price', u'misc', u'software&design&hardware', u'ease_of_use', u'hardware', u'reachability', u'place&scenery', u'design', u'gui&misc', u'performance', u'place', u'hardware&misc', u'software'])\n"
     ]
    }
   ],
   "source": []
  },
  {
   "cell_type": "code",
   "execution_count": null,
   "metadata": {
    "collapsed": true
   },
   "outputs": [],
   "source": []
  }
 ],
 "metadata": {
  "anaconda-cloud": {},
  "kernelspec": {
   "display_name": "Python [conda root]",
   "language": "python",
   "name": "conda-root-py"
  },
  "language_info": {
   "codemirror_mode": {
    "name": "ipython",
    "version": 2
   },
   "file_extension": ".py",
   "mimetype": "text/x-python",
   "name": "python",
   "nbconvert_exporter": "python",
   "pygments_lexer": "ipython2",
   "version": "2.7.12"
  }
 },
 "nbformat": 4,
 "nbformat_minor": 1
}
