{
 "cells": [
  {
   "cell_type": "code",
   "execution_count": 32,
   "metadata": {
    "collapsed": false
   },
   "outputs": [],
   "source": [
    "import pandas as pd\n",
    "import numpy as np\n",
    "import sklearn\n",
    "from sklearn.model_selection import train_test_split\n",
    "\n",
    "categoryDF=pd.read_csv(\"Z:/MSBooks/NLP/FinalProjectFiles/ACDFullData/aspectCategory_new.csv\",delimiter='#',encoding = 'utf-8')\n",
    "categoryDF.head()\n",
    "train, test = train_test_split(categoryDF, test_size = 0.2)"
   ]
  },
  {
   "cell_type": "code",
   "execution_count": 33,
   "metadata": {
    "collapsed": false
   },
   "outputs": [],
   "source": [
    "train = train.reset_index(drop='True')\n",
    "test = test.reset_index(drop='True')"
   ]
  },
  {
   "cell_type": "code",
   "execution_count": 34,
   "metadata": {
    "collapsed": false
   },
   "outputs": [],
   "source": [
    "trainData=[]\n",
    "testData = []\n",
    "trainLabels = []\n",
    "testLabels = []\n",
    "sentiTrainLabels=[]\n",
    "sentiTestLabels=[]\n",
    "for id in train.index:\n",
    "    trainData.append(train.iloc[id,2])\n",
    "    trainLabels.append(train.iloc[id,3])\n",
    "    sentiTrainLabels.append(train.iloc[id,1])\n",
    "\n",
    "for id in test.index:\n",
    "    testData.append(test.iloc[id,2])\n",
    "    testLabels.append(test.iloc[id,3])\n",
    "    sentiTestLabels.append(test.iloc[id,1])"
   ]
  },
  {
   "cell_type": "code",
   "execution_count": 35,
   "metadata": {
    "collapsed": false
   },
   "outputs": [],
   "source": [
    "trainLabels = ['missing' if str(x)== 'nan' else x for x in trainLabels]\n",
    "testLabels = ['missing' if str(x) == 'nan' else x for x in testLabels]"
   ]
  },
  {
   "cell_type": "code",
   "execution_count": 36,
   "metadata": {
    "collapsed": false
   },
   "outputs": [],
   "source": [
    "with open(\"Z:/MSBooks/NLP/FinalProjectFiles/ACDFullData/hindi_stopwords.txt\") as sw:\n",
    "    stopWords=[x.strip(\"\\n\") for x in sw.readlines()]\n"
   ]
  },
  {
   "cell_type": "code",
   "execution_count": 37,
   "metadata": {
    "collapsed": false
   },
   "outputs": [],
   "source": [
    "from sklearn.feature_extraction.text import TfidfVectorizer\n",
    "from sklearn import svm\n",
    "from sklearn.metrics import classification_report\n",
    "\n",
    "vectorizer = TfidfVectorizer(stop_words=stopWords,min_df=5,\n",
    "                                 max_df = 0.8,\n",
    "                                 sublinear_tf=True,\n",
    "                                 use_idf=True)\n",
    "train_vectors = vectorizer.fit_transform(trainData)\n",
    "test_vectors = vectorizer.transform(testData)\n",
    "\n",
    "\n",
    "classifier_rbf = svm.SVC()\n",
    "classifier_rbf.fit(train_vectors, trainLabels)\n",
    "prediction_rbf = classifier_rbf.predict(test_vectors)\n",
    "senti_classifier_rbf=svm.SVC()\n",
    "senti_classifier_rbf.fit(train_vectors,sentiTrainLabels)\n",
    "senti_prediction_rbf = senti_classifier_rbf.predict(test_vectors)"
   ]
  },
  {
   "cell_type": "code",
   "execution_count": 38,
   "metadata": {
    "collapsed": false
   },
   "outputs": [],
   "source": [
    "from sklearn.multiclass import OneVsRestClassifier\n",
    "from sklearn.svm import SVC\n",
    "classifier_linear = OneVsRestClassifier(SVC(kernel='linear'))\n",
    "classifier_linear.fit(train_vectors, trainLabels)\n",
    "prediction_linear = classifier_linear.predict(test_vectors)\n",
    "\n",
    "senti_classifier_linear=svm.SVC(kernel='linear')\n",
    "senti_classifier_linear.fit(train_vectors,sentiTrainLabels)\n",
    "senti_prediction_linear = senti_classifier_linear.predict(test_vectors)\n"
   ]
  },
  {
   "cell_type": "code",
   "execution_count": 39,
   "metadata": {
    "collapsed": true
   },
   "outputs": [],
   "source": [
    "classifier_liblinear = svm.LinearSVC()\n",
    "classifier_liblinear.fit(train_vectors, trainLabels)\n",
    "prediction_liblinear = classifier_liblinear.predict(test_vectors)\n",
    "\n",
    "\n",
    "senti_classifier_liblinear=svm.LinearSVC()\n",
    "senti_classifier_liblinear.fit(train_vectors,sentiTrainLabels)\n",
    "senti_prediction_liblinear = senti_classifier_liblinear.predict(test_vectors)"
   ]
  },
  {
   "cell_type": "code",
   "execution_count": 40,
   "metadata": {
    "collapsed": false
   },
   "outputs": [
    {
     "data": {
      "text/plain": [
       "0.53136531365313655"
      ]
     },
     "execution_count": 40,
     "metadata": {},
     "output_type": "execute_result"
    }
   ],
   "source": [
    "from sklearn.metrics import f1_score\n",
    "f1_score(testLabels, prediction_linear, average='micro')  "
   ]
  },
  {
   "cell_type": "code",
   "execution_count": 41,
   "metadata": {
    "collapsed": false
   },
   "outputs": [
    {
     "name": "stdout",
     "output_type": "stream",
     "text": [
      "                          precision    recall  f1-score   support\n",
      "\n",
      "       hardware&software       0.00      0.00      0.00         0\n",
      "            scenery&misc       0.46      0.55      0.50        84\n",
      "        performance&misc       0.50      0.12      0.20         8\n",
      "                    misc       0.00      0.00      0.00         3\n",
      "              story&misc       0.00      0.00      0.00        22\n",
      "    design&misc&hardware       0.00      0.00      0.00         1\n",
      "                  budget       0.00      0.00      0.00         1\n",
      "                hardware       0.00      0.00      0.00         1\n",
      "              place&misc       0.00      0.00      0.00         0\n",
      "                  design       0.00      0.00      0.00         3\n",
      "              price&misc       0.00      0.00      0.00         1\n",
      " software&price&hardware       0.59      0.83      0.69       323\n",
      "       price&design&misc       0.00      0.00      0.00        10\n",
      "           hardware&misc       0.57      0.50      0.54       260\n",
      "   design&hardware&price       0.00      0.00      0.00         2\n",
      "        ease_of_use&misc       0.40      0.19      0.25        97\n",
      "                   story       0.40      0.29      0.33         7\n",
      "    ease_of_use&hardware       0.55      0.57      0.56        47\n",
      "       performance&story       0.00      0.00      0.00         1\n",
      "           misc&hardware       0.43      0.42      0.43        59\n",
      "       price&ease_of_use       0.00      0.00      0.00         1\n",
      "         design&hardware       0.00      0.00      0.00         3\n",
      "             place&price       0.62      0.86      0.72        28\n",
      "                   music       0.00      0.00      0.00         0\n",
      "                gui&misc       0.00      0.00      0.00         1\n",
      "             performance       0.00      0.00      0.00         5\n",
      "                 scenery       0.00      0.00      0.00         6\n",
      "          price&hardware       0.29      0.20      0.24        10\n",
      "              music&misc       0.41      0.45      0.43        20\n",
      "            price&design       0.00      0.00      0.00         1\n",
      "                 missing       0.43      0.44      0.44        54\n",
      "      ease_of_use&design       0.00      0.00      0.00         2\n",
      "                   price       0.00      0.00      0.00         1\n",
      "     price&misc&hardware       0.00      0.00      0.00        14\n",
      "         software&design       0.00      0.00      0.00         3\n",
      "       performance&music       0.00      0.00      0.00         5\n",
      "\n",
      "             avg / total       0.49      0.53      0.50      1084\n",
      "\n"
     ]
    }
   ],
   "source": [
    "from sklearn.metrics import classification_report\n",
    "target_names = set(trainLabels)\n",
    "target_list = list(target_names)\n",
    "print(classification_report(testLabels, prediction_linear, target_names=target_list))"
   ]
  },
  {
   "cell_type": "code",
   "execution_count": 42,
   "metadata": {
    "collapsed": false
   },
   "outputs": [
    {
     "data": {
      "text/plain": [
       "0.62638376383763839"
      ]
     },
     "execution_count": 42,
     "metadata": {},
     "output_type": "execute_result"
    }
   ],
   "source": [
    "f1_score(sentiTestLabels, senti_prediction_linear, average='micro')  "
   ]
  },
  {
   "cell_type": "code",
   "execution_count": 43,
   "metadata": {
    "collapsed": false
   },
   "outputs": [],
   "source": [
    "from sklearn import tree\n",
    "from collections import OrderedDict\n",
    "mySet = set(trainLabels)\n",
    "i=0\n",
    "macros=OrderedDict()\n",
    "reverseMap=OrderedDict()\n",
    "for item in mySet:\n",
    "    macros[item]=i\n",
    "    reverseMap[i]=item\n",
    "    i  += 1\n",
    "trainMacros=[]\n",
    "testMacros=[]\n",
    "for item in trainLabels:\n",
    "    trainMacros.append(macros[item])\n",
    "\n",
    "    \n",
    "clf = OneVsRestClassifier(tree.DecisionTreeClassifier())\n",
    "clf = clf.fit(train_vectors, trainMacros)\n",
    "result = clf.predict(test_vectors)    "
   ]
  },
  {
   "cell_type": "code",
   "execution_count": 44,
   "metadata": {
    "collapsed": false
   },
   "outputs": [],
   "source": [
    "resultList= result.tolist()\n",
    "resultData=[]\n",
    "for item in resultList:\n",
    "    resultData.append(reverseMap[item])\n"
   ]
  },
  {
   "cell_type": "code",
   "execution_count": 45,
   "metadata": {
    "collapsed": false
   },
   "outputs": [
    {
     "data": {
      "text/plain": [
       "0.32472324723247231"
      ]
     },
     "execution_count": 45,
     "metadata": {},
     "output_type": "execute_result"
    }
   ],
   "source": [
    "f1_score(testLabels, resultData, average='micro') "
   ]
  },
  {
   "cell_type": "code",
   "execution_count": 46,
   "metadata": {
    "collapsed": false
   },
   "outputs": [
    {
     "data": {
      "text/plain": [
       "0.46125461254612549"
      ]
     },
     "execution_count": 46,
     "metadata": {},
     "output_type": "execute_result"
    }
   ],
   "source": [
    "from sklearn.ensemble import RandomForestClassifier\n",
    "rfclf = OneVsRestClassifier(RandomForestClassifier())\n",
    "rfclf.fit(train_vectors,trainMacros)\n",
    "rfresult = rfclf.predict(test_vectors)\n",
    "rfresultList = rfresult.tolist()\n",
    "rfresultData=[]\n",
    "for item in rfresultList:\n",
    "    rfresultData.append(reverseMap[item])\n",
    "f1_score(testLabels,rfresultData,average='micro')"
   ]
  }
 ],
 "metadata": {
  "anaconda-cloud": {},
  "kernelspec": {
   "display_name": "Python [conda root]",
   "language": "python",
   "name": "conda-root-py"
  },
  "language_info": {
   "codemirror_mode": {
    "name": "ipython",
    "version": 2
   },
   "file_extension": ".py",
   "mimetype": "text/x-python",
   "name": "python",
   "nbconvert_exporter": "python",
   "pygments_lexer": "ipython2",
   "version": "2.7.12"
  }
 },
 "nbformat": 4,
 "nbformat_minor": 1
}
